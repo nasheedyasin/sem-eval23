{
 "cells": [
  {
   "cell_type": "markdown",
   "metadata": {},
   "source": [
    "## 1. Loading the data and artifacts"
   ]
  },
  {
   "cell_type": "code",
   "execution_count": null,
   "metadata": {},
   "outputs": [],
   "source": [
    "label2id = {\n",
    "    'ISSUE': 0,\n",
    "    'NONE': 1,\n",
    "    'STA': 2,\n",
    "    'ANALYSIS': 3,\n",
    "    'PRE_RELIED': 4,\n",
    "    'RATIO': 5,\n",
    "    'RPC': 6,\n",
    "    'PRE_NOT_RELIED': 7,\n",
    "    'ARG_PETITIONER': 8,\n",
    "    'PREAMBLE': 9,\n",
    "    'RLC': 10,\n",
    "    'ARG_RESPONDENT': 11,\n",
    "    'FAC': 12\n",
    "}\n",
    "\n",
    "id2label = {v: k for k, v in label2id.items()}"
   ]
  },
  {
   "cell_type": "code",
   "execution_count": null,
   "metadata": {},
   "outputs": [],
   "source": [
    "import pickle as pkl\n",
    "from typing import Dict, List\n",
    "from sklearn.model_selection import train_test_split\n",
    "\n",
    "from datautils import RRDataModule, RRBatcher\n",
    "\n",
    "DPATH = \"../data/dev.json\"\n",
    "TPATH = \"sentence-transformers/all-MiniLM-L6-v2\"\n",
    "\n",
    "batcher = RRBatcher(TPATH)\n",
    "datamodule = RRDataModule(DPATH, batcher, label2id)"
   ]
  },
  {
   "cell_type": "markdown",
   "metadata": {},
   "source": [
    "## 2. Generate the Vectors"
   ]
  },
  {
   "cell_type": "markdown",
   "metadata": {},
   "source": [
    "### 2.1 Get the embeddings"
   ]
  },
  {
   "cell_type": "code",
   "execution_count": null,
   "metadata": {},
   "outputs": [],
   "source": [
    "import torch\n",
    "from pytorch_lightning import Trainer, seed_everything\n",
    "from modelling import CoherenceAwareSentenceEmbedder\n",
    "\n",
    "\n",
    "CKPT = \"../models/coherence-aware/all-MiniLM-L6-v2/imp=0.2-epoch=0-val_sem_loss=0.96.ckpt\"\n",
    "seed_everything(42, workers=True)\n",
    "\n",
    "model = CoherenceAwareSentenceEmbedder.load_from_checkpoint(CKPT)\n",
    "trainer = Trainer(deterministic=True, accelerator='gpu')\n",
    "rsents_embeddings = trainer.predict(model, dataloaders=datamodule)\n",
    "\n",
    "# Collate the batch-wise results\n",
    "rsents_embeddings = torch.vstack(rsents_embeddings).cpu()"
   ]
  },
  {
   "cell_type": "markdown",
   "metadata": {},
   "source": [
    "## 3. Visualize them using t-SNE and PCA"
   ]
  },
  {
   "cell_type": "code",
   "execution_count": null,
   "metadata": {},
   "outputs": [],
   "source": [
    "import numpy as np\n",
    "from sklearn.manifold import TSNE\n",
    "from sklearn.decomposition import PCA\n",
    "\n",
    "\n",
    "# Masked/raw sentences in 2-D embedding space\n",
    "rsents_locs = TSNE(n_components=2, learning_rate='auto',\n",
    "                   init='random', perplexity=50).fit_transform(rsents_embeddings)\n",
    "\n",
    "pca_rsents_locs = PCA().fit_transform(rsents_embeddings)"
   ]
  },
  {
   "cell_type": "markdown",
   "metadata": {},
   "source": [
    "### 3.1 Plotting"
   ]
  },
  {
   "cell_type": "code",
   "execution_count": null,
   "metadata": {},
   "outputs": [],
   "source": [
    "import matplotlib.pyplot as plt\n",
    "\n",
    "\n",
    "# The Rhetorical Roles (classes)\n",
    "labels = list(id2label.values())\n",
    "rh_roles = np.array([obj[1][0] for obj in datamodule.pred_dataset])\n",
    "\n",
    "# All the indices with `None` class\n",
    "keep_idx = (rh_roles != label2id['NONE']).nonzero()[0]\n",
    "# Ignore all the none classes\n",
    "rh_roles = np.take(rh_roles, keep_idx)\n",
    "rsents_locs = np.take(rsents_locs, keep_idx, axis=0)\n",
    "pca_rsents_locs = np.take(pca_rsents_locs, keep_idx, axis=0)\n",
    "\n",
    "fig, axs = plt.subplots(1, 2, figsize=[40, 20])\n",
    "\n",
    "scatter1 = axs[0].scatter(rsents_locs[:, 0], rsents_locs[:, 1], c=rh_roles)\n",
    "axs[0].set_title('TSNE Plot')\n",
    "handles, _ = scatter1.legend_elements(prop=\"colors\", alpha=0.6)\n",
    "legend1 = axs[0].legend(handles, labels, loc=\"lower right\", title=\"Classes\")\n",
    "axs[0].add_artist(legend1)\n",
    "\n",
    "\n",
    "scatter2 = axs[1].scatter(pca_rsents_locs[:, 0], pca_rsents_locs[:, 1], c=rh_roles)\n",
    "axs[1].set_title('PCA Plot')\n",
    "handles, _ = scatter2.legend_elements(prop=\"colors\", alpha=0.6)\n",
    "legend1 = axs[1].legend(handles, labels, loc=\"lower right\", title=\"Classes\")\n",
    "axs[1].add_artist(legend1)\n",
    "\n",
    "plt.show()"
   ]
  }
 ],
 "metadata": {
  "kernelspec": {
   "display_name": "Python 3.8.12 ('expt')",
   "language": "python",
   "name": "python3"
  },
  "language_info": {
   "codemirror_mode": {
    "name": "ipython",
    "version": 3
   },
   "file_extension": ".py",
   "mimetype": "text/x-python",
   "name": "python",
   "nbconvert_exporter": "python",
   "pygments_lexer": "ipython3",
   "version": "3.8.13"
  },
  "orig_nbformat": 4,
  "vscode": {
   "interpreter": {
    "hash": "c7d4cfcaae307a7383f424736b9bb7961522145721c6eef7a7425780af807757"
   }
  }
 },
 "nbformat": 4,
 "nbformat_minor": 2
}
