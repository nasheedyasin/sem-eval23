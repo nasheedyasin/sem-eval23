{
 "cells": [
  {
   "cell_type": "markdown",
   "metadata": {},
   "source": [
    "## Preamble"
   ]
  },
  {
   "cell_type": "code",
   "execution_count": 1,
   "metadata": {},
   "outputs": [],
   "source": [
    "import sys\n",
    "\n",
    "# Allows imports from the scripts directory.\n",
    "sys.path.append('../scripts')"
   ]
  },
  {
   "cell_type": "markdown",
   "metadata": {},
   "source": [
    "## Prepare the data"
   ]
  },
  {
   "cell_type": "code",
   "execution_count": 2,
   "metadata": {},
   "outputs": [],
   "source": [
    "label2id = {\n",
    "    'ISSUE': 0,\n",
    "    'NONE': 1,\n",
    "    'STA': 2,\n",
    "    'ANALYSIS': 3,\n",
    "    'PRE_RELIED': 4,\n",
    "    'RATIO': 5,\n",
    "    'RPC': 6,\n",
    "    'PRE_NOT_RELIED': 7,\n",
    "    'ARG_PETITIONER': 8,\n",
    "    'PREAMBLE': 9,\n",
    "    'RLC': 10,\n",
    "    'ARG_RESPONDENT': 11,\n",
    "    'FAC': 12\n",
    "}\n",
    "\n",
    "id2label = {v: k for k, v in label2id.items()}"
   ]
  },
  {
   "cell_type": "code",
   "execution_count": 3,
   "metadata": {},
   "outputs": [
    {
     "name": "stderr",
     "output_type": "stream",
     "text": [
      "c:\\ProgramData\\Miniconda3\\envs\\expt\\lib\\site-packages\\tqdm\\auto.py:22: TqdmWarning: IProgress not found. Please update jupyter and ipywidgets. See https://ipywidgets.readthedocs.io/en/stable/user_install.html\n",
      "  from .autonotebook import tqdm as notebook_tqdm\n"
     ]
    }
   ],
   "source": [
    "from datautils import RRDataModule, RRBatcher\n",
    "\n",
    "DPATH = \"../data/train.json\"\n",
    "MPATH = \"sentence-transformers/all-MiniLM-L6-v2\"\n",
    "\n",
    "batcher = RRBatcher(MPATH)\n",
    "datamodule = RRDataModule(DPATH, batcher, label2id)\n",
    "datamodule.setup()\n"
   ]
  },
  {
   "cell_type": "markdown",
   "metadata": {},
   "source": [
    "# Prepare the model"
   ]
  },
  {
   "cell_type": "code",
   "execution_count": 4,
   "metadata": {},
   "outputs": [
    {
     "ename": "AttributeError",
     "evalue": "'CoherenceAwareSentenceEmbedder' object has no attribute 'backbone'",
     "output_type": "error",
     "traceback": [
      "\u001b[1;31m---------------------------------------------------------------------------\u001b[0m",
      "\u001b[1;31mPermissionError\u001b[0m                           Traceback (most recent call last)",
      "\u001b[1;32mc:\\repos\\sem-eval23\\scripts\\train_embedder.ipynb Cell 7\u001b[0m in \u001b[0;36m<cell line: 13>\u001b[1;34m()\u001b[0m\n\u001b[0;32m     <a href='vscode-notebook-cell:/c%3A/repos/sem-eval23/scripts/train_embedder.ipynb#W6sZmlsZQ%3D%3D?line=12'>13</a>\u001b[0m \u001b[39mtry\u001b[39;00m:\n\u001b[1;32m---> <a href='vscode-notebook-cell:/c%3A/repos/sem-eval23/scripts/train_embedder.ipynb#W6sZmlsZQ%3D%3D?line=13'>14</a>\u001b[0m     model \u001b[39m=\u001b[39m CoherenceAwareSentenceEmbedder\u001b[39m.\u001b[39;49mload_from_checkpoint(CKPT, num_classes\u001b[39m=\u001b[39;49m\u001b[39mlen\u001b[39;49m(label2id))\n\u001b[0;32m     <a href='vscode-notebook-cell:/c%3A/repos/sem-eval23/scripts/train_embedder.ipynb#W6sZmlsZQ%3D%3D?line=14'>15</a>\u001b[0m     \u001b[39mprint\u001b[39m(\u001b[39m\"\u001b[39m\u001b[39mLoaded checkpoint\u001b[39m\u001b[39m\"\u001b[39m)\n",
      "File \u001b[1;32mc:\\ProgramData\\Miniconda3\\envs\\expt\\lib\\site-packages\\pytorch_lightning\\core\\saving.py:137\u001b[0m, in \u001b[0;36mModelIO.load_from_checkpoint\u001b[1;34m(cls, checkpoint_path, map_location, hparams_file, strict, **kwargs)\u001b[0m\n\u001b[0;32m     66\u001b[0m \u001b[39mr\u001b[39m\u001b[39m\"\"\"\u001b[39;00m\n\u001b[0;32m     67\u001b[0m \u001b[39mPrimary way of loading a model from a checkpoint. When Lightning saves a checkpoint\u001b[39;00m\n\u001b[0;32m     68\u001b[0m \u001b[39mit stores the arguments passed to ``__init__``  in the checkpoint under ``\"hyper_parameters\"``.\u001b[39;00m\n\u001b[1;32m   (...)\u001b[0m\n\u001b[0;32m    135\u001b[0m \u001b[39m    y_hat = pretrained_model(x)\u001b[39;00m\n\u001b[0;32m    136\u001b[0m \u001b[39m\"\"\"\u001b[39;00m\n\u001b[1;32m--> 137\u001b[0m \u001b[39mreturn\u001b[39;00m _load_from_checkpoint(\n\u001b[0;32m    138\u001b[0m     \u001b[39mcls\u001b[39;49m,\n\u001b[0;32m    139\u001b[0m     checkpoint_path,\n\u001b[0;32m    140\u001b[0m     map_location,\n\u001b[0;32m    141\u001b[0m     hparams_file,\n\u001b[0;32m    142\u001b[0m     strict,\n\u001b[0;32m    143\u001b[0m     \u001b[39m*\u001b[39;49m\u001b[39m*\u001b[39;49mkwargs,\n\u001b[0;32m    144\u001b[0m )\n",
      "File \u001b[1;32mc:\\ProgramData\\Miniconda3\\envs\\expt\\lib\\site-packages\\pytorch_lightning\\core\\saving.py:184\u001b[0m, in \u001b[0;36m_load_from_checkpoint\u001b[1;34m(cls, checkpoint_path, map_location, hparams_file, strict, **kwargs)\u001b[0m\n\u001b[0;32m    183\u001b[0m \u001b[39mwith\u001b[39;00m pl_legacy_patch():\n\u001b[1;32m--> 184\u001b[0m     checkpoint \u001b[39m=\u001b[39m pl_load(checkpoint_path, map_location\u001b[39m=\u001b[39;49mmap_location)\n\u001b[0;32m    186\u001b[0m \u001b[39mif\u001b[39;00m hparams_file \u001b[39mis\u001b[39;00m \u001b[39mnot\u001b[39;00m \u001b[39mNone\u001b[39;00m:\n",
      "File \u001b[1;32mc:\\ProgramData\\Miniconda3\\envs\\expt\\lib\\site-packages\\pytorch_lightning\\utilities\\cloud_io.py:46\u001b[0m, in \u001b[0;36mload\u001b[1;34m(path_or_url, map_location)\u001b[0m\n\u001b[0;32m     45\u001b[0m fs \u001b[39m=\u001b[39m get_filesystem(path_or_url)\n\u001b[1;32m---> 46\u001b[0m \u001b[39mwith\u001b[39;00m fs\u001b[39m.\u001b[39;49mopen(path_or_url, \u001b[39m\"\u001b[39;49m\u001b[39mrb\u001b[39;49m\u001b[39m\"\u001b[39;49m) \u001b[39mas\u001b[39;00m f:\n\u001b[0;32m     47\u001b[0m     \u001b[39mreturn\u001b[39;00m torch\u001b[39m.\u001b[39mload(f, map_location\u001b[39m=\u001b[39mmap_location)\n",
      "File \u001b[1;32mc:\\ProgramData\\Miniconda3\\envs\\expt\\lib\\site-packages\\fsspec\\spec.py:1094\u001b[0m, in \u001b[0;36mAbstractFileSystem.open\u001b[1;34m(self, path, mode, block_size, cache_options, compression, **kwargs)\u001b[0m\n\u001b[0;32m   1093\u001b[0m ac \u001b[39m=\u001b[39m kwargs\u001b[39m.\u001b[39mpop(\u001b[39m\"\u001b[39m\u001b[39mautocommit\u001b[39m\u001b[39m\"\u001b[39m, \u001b[39mnot\u001b[39;00m \u001b[39mself\u001b[39m\u001b[39m.\u001b[39m_intrans)\n\u001b[1;32m-> 1094\u001b[0m f \u001b[39m=\u001b[39m \u001b[39mself\u001b[39;49m\u001b[39m.\u001b[39;49m_open(\n\u001b[0;32m   1095\u001b[0m     path,\n\u001b[0;32m   1096\u001b[0m     mode\u001b[39m=\u001b[39;49mmode,\n\u001b[0;32m   1097\u001b[0m     block_size\u001b[39m=\u001b[39;49mblock_size,\n\u001b[0;32m   1098\u001b[0m     autocommit\u001b[39m=\u001b[39;49mac,\n\u001b[0;32m   1099\u001b[0m     cache_options\u001b[39m=\u001b[39;49mcache_options,\n\u001b[0;32m   1100\u001b[0m     \u001b[39m*\u001b[39;49m\u001b[39m*\u001b[39;49mkwargs,\n\u001b[0;32m   1101\u001b[0m )\n\u001b[0;32m   1102\u001b[0m \u001b[39mif\u001b[39;00m compression \u001b[39mis\u001b[39;00m \u001b[39mnot\u001b[39;00m \u001b[39mNone\u001b[39;00m:\n",
      "File \u001b[1;32mc:\\ProgramData\\Miniconda3\\envs\\expt\\lib\\site-packages\\fsspec\\implementations\\local.py:175\u001b[0m, in \u001b[0;36mLocalFileSystem._open\u001b[1;34m(self, path, mode, block_size, **kwargs)\u001b[0m\n\u001b[0;32m    174\u001b[0m     \u001b[39mself\u001b[39m\u001b[39m.\u001b[39mmakedirs(\u001b[39mself\u001b[39m\u001b[39m.\u001b[39m_parent(path), exist_ok\u001b[39m=\u001b[39m\u001b[39mTrue\u001b[39;00m)\n\u001b[1;32m--> 175\u001b[0m \u001b[39mreturn\u001b[39;00m LocalFileOpener(path, mode, fs\u001b[39m=\u001b[39;49m\u001b[39mself\u001b[39;49m, \u001b[39m*\u001b[39;49m\u001b[39m*\u001b[39;49mkwargs)\n",
      "File \u001b[1;32mc:\\ProgramData\\Miniconda3\\envs\\expt\\lib\\site-packages\\fsspec\\implementations\\local.py:273\u001b[0m, in \u001b[0;36mLocalFileOpener.__init__\u001b[1;34m(self, path, mode, autocommit, fs, compression, **kwargs)\u001b[0m\n\u001b[0;32m    272\u001b[0m \u001b[39mself\u001b[39m\u001b[39m.\u001b[39mblocksize \u001b[39m=\u001b[39m io\u001b[39m.\u001b[39mDEFAULT_BUFFER_SIZE\n\u001b[1;32m--> 273\u001b[0m \u001b[39mself\u001b[39;49m\u001b[39m.\u001b[39;49m_open()\n",
      "File \u001b[1;32mc:\\ProgramData\\Miniconda3\\envs\\expt\\lib\\site-packages\\fsspec\\implementations\\local.py:278\u001b[0m, in \u001b[0;36mLocalFileOpener._open\u001b[1;34m(self)\u001b[0m\n\u001b[0;32m    277\u001b[0m \u001b[39mif\u001b[39;00m \u001b[39mself\u001b[39m\u001b[39m.\u001b[39mautocommit \u001b[39mor\u001b[39;00m \u001b[39m\"\u001b[39m\u001b[39mw\u001b[39m\u001b[39m\"\u001b[39m \u001b[39mnot\u001b[39;00m \u001b[39min\u001b[39;00m \u001b[39mself\u001b[39m\u001b[39m.\u001b[39mmode:\n\u001b[1;32m--> 278\u001b[0m     \u001b[39mself\u001b[39m\u001b[39m.\u001b[39mf \u001b[39m=\u001b[39m \u001b[39mopen\u001b[39;49m(\u001b[39mself\u001b[39;49m\u001b[39m.\u001b[39;49mpath, mode\u001b[39m=\u001b[39;49m\u001b[39mself\u001b[39;49m\u001b[39m.\u001b[39;49mmode)\n\u001b[0;32m    279\u001b[0m     \u001b[39mif\u001b[39;00m \u001b[39mself\u001b[39m\u001b[39m.\u001b[39mcompression:\n",
      "\u001b[1;31mPermissionError\u001b[0m: [Errno 13] Permission denied: 'c:/repos/sem-eval23/scripts'",
      "\nDuring handling of the above exception, another exception occurred:\n",
      "\u001b[1;31mAttributeError\u001b[0m                            Traceback (most recent call last)",
      "\u001b[1;32mc:\\repos\\sem-eval23\\scripts\\train_embedder.ipynb Cell 7\u001b[0m in \u001b[0;36m<cell line: 13>\u001b[1;34m()\u001b[0m\n\u001b[0;32m     <a href='vscode-notebook-cell:/c%3A/repos/sem-eval23/scripts/train_embedder.ipynb#W6sZmlsZQ%3D%3D?line=14'>15</a>\u001b[0m     \u001b[39mprint\u001b[39m(\u001b[39m\"\u001b[39m\u001b[39mLoaded checkpoint\u001b[39m\u001b[39m\"\u001b[39m)\n\u001b[0;32m     <a href='vscode-notebook-cell:/c%3A/repos/sem-eval23/scripts/train_embedder.ipynb#W6sZmlsZQ%3D%3D?line=15'>16</a>\u001b[0m \u001b[39mexcept\u001b[39;00m:\n\u001b[1;32m---> <a href='vscode-notebook-cell:/c%3A/repos/sem-eval23/scripts/train_embedder.ipynb#W6sZmlsZQ%3D%3D?line=16'>17</a>\u001b[0m     model \u001b[39m=\u001b[39m CoherenceAwareSentenceEmbedder(MPATH,  num_classes\u001b[39m=\u001b[39;49m\u001b[39mlen\u001b[39;49m(label2id), surrogate_imp\u001b[39m=\u001b[39;49msurrogate_imp, triplet_margin\u001b[39m=\u001b[39;49m\u001b[39m1.0\u001b[39;49m)\n\u001b[0;32m     <a href='vscode-notebook-cell:/c%3A/repos/sem-eval23/scripts/train_embedder.ipynb#W6sZmlsZQ%3D%3D?line=17'>18</a>\u001b[0m     \u001b[39mprint\u001b[39m(\u001b[39m\"\u001b[39m\u001b[39mLoaded fresh model\u001b[39m\u001b[39m\"\u001b[39m)\n\u001b[0;32m     <a href='vscode-notebook-cell:/c%3A/repos/sem-eval23/scripts/train_embedder.ipynb#W6sZmlsZQ%3D%3D?line=19'>20</a>\u001b[0m checkpoint_callback \u001b[39m=\u001b[39m ModelCheckpoint(\n\u001b[0;32m     <a href='vscode-notebook-cell:/c%3A/repos/sem-eval23/scripts/train_embedder.ipynb#W6sZmlsZQ%3D%3D?line=20'>21</a>\u001b[0m     SAVE_PATH,\n\u001b[0;32m     <a href='vscode-notebook-cell:/c%3A/repos/sem-eval23/scripts/train_embedder.ipynb#W6sZmlsZQ%3D%3D?line=21'>22</a>\u001b[0m     filename\u001b[39m=\u001b[39m\u001b[39mf\u001b[39m\u001b[39m'\u001b[39m\u001b[39mimp=\u001b[39m\u001b[39m{\u001b[39;00msurrogate_imp\u001b[39m}\u001b[39;00m\u001b[39m-\u001b[39m\u001b[39m{{\u001b[39;00m\u001b[39mepoch\u001b[39m\u001b[39m}}\u001b[39;00m\u001b[39m-\u001b[39m\u001b[39m{{\u001b[39;00m\u001b[39mval_sem_loss:.2f\u001b[39m\u001b[39m}}\u001b[39;00m\u001b[39m'\u001b[39m,\n\u001b[0;32m     <a href='vscode-notebook-cell:/c%3A/repos/sem-eval23/scripts/train_embedder.ipynb#W6sZmlsZQ%3D%3D?line=22'>23</a>\u001b[0m     monitor\u001b[39m=\u001b[39m\u001b[39m'\u001b[39m\u001b[39mval_sem_loss\u001b[39m\u001b[39m'\u001b[39m,\n\u001b[0;32m     <a href='vscode-notebook-cell:/c%3A/repos/sem-eval23/scripts/train_embedder.ipynb#W6sZmlsZQ%3D%3D?line=23'>24</a>\u001b[0m     \u001b[39m# save_weights_only=True,\u001b[39;00m\n\u001b[0;32m     <a href='vscode-notebook-cell:/c%3A/repos/sem-eval23/scripts/train_embedder.ipynb#W6sZmlsZQ%3D%3D?line=24'>25</a>\u001b[0m )\n",
      "File \u001b[1;32mc:\\repos\\sem-eval23\\scripts\\modelling.py:100\u001b[0m, in \u001b[0;36mCoherenceAwareSentenceEmbedder.__init__\u001b[1;34m(self, mpath, num_classes, embedding_dim, semantic_filters, triplet_margin, surrogate_imp, sem_infuser_lr, surrogate_lr, weight_decay)\u001b[0m\n\u001b[0;32m     97\u001b[0m \u001b[39mself\u001b[39m\u001b[39m.\u001b[39mweight_decay \u001b[39m=\u001b[39m weight_decay\n\u001b[0;32m     99\u001b[0m \u001b[39m# Ensure that the semantic_dims are smaller than the backbone's hidden dim\u001b[39;00m\n\u001b[1;32m--> 100\u001b[0m \u001b[39massert\u001b[39;00m embedding_dim \u001b[39m<\u001b[39m\u001b[39m=\u001b[39m \u001b[39mself\u001b[39;49m\u001b[39m.\u001b[39;49mbackbone\u001b[39m.\u001b[39mconfig\u001b[39m.\u001b[39mhidden_size,\\\n\u001b[0;32m    101\u001b[0m     \u001b[39m\"\u001b[39m\u001b[39mEnsure that `embedding_dim`is smaller than the transformer\u001b[39m\u001b[39m'\u001b[39m\u001b[39ms \u001b[39m\u001b[39m\"\u001b[39m\\\n\u001b[0;32m    102\u001b[0m     \u001b[39m\"\u001b[39m\u001b[39m`hidden_dim`\u001b[39m\u001b[39m\"\u001b[39m\n\u001b[0;32m    104\u001b[0m \u001b[39m# Base model        \u001b[39;00m\n\u001b[0;32m    105\u001b[0m \u001b[39mself\u001b[39m\u001b[39m.\u001b[39mbackbone \u001b[39m=\u001b[39m AutoModel\u001b[39m.\u001b[39mfrom_pretrained(mpath)\n",
      "File \u001b[1;32mc:\\ProgramData\\Miniconda3\\envs\\expt\\lib\\site-packages\\torch\\nn\\modules\\module.py:1207\u001b[0m, in \u001b[0;36mModule.__getattr__\u001b[1;34m(self, name)\u001b[0m\n\u001b[0;32m   1205\u001b[0m     \u001b[39mif\u001b[39;00m name \u001b[39min\u001b[39;00m modules:\n\u001b[0;32m   1206\u001b[0m         \u001b[39mreturn\u001b[39;00m modules[name]\n\u001b[1;32m-> 1207\u001b[0m \u001b[39mraise\u001b[39;00m \u001b[39mAttributeError\u001b[39;00m(\u001b[39m\"\u001b[39m\u001b[39m'\u001b[39m\u001b[39m{}\u001b[39;00m\u001b[39m'\u001b[39m\u001b[39m object has no attribute \u001b[39m\u001b[39m'\u001b[39m\u001b[39m{}\u001b[39;00m\u001b[39m'\u001b[39m\u001b[39m\"\u001b[39m\u001b[39m.\u001b[39mformat(\n\u001b[0;32m   1208\u001b[0m     \u001b[39mtype\u001b[39m(\u001b[39mself\u001b[39m)\u001b[39m.\u001b[39m\u001b[39m__name__\u001b[39m, name))\n",
      "\u001b[1;31mAttributeError\u001b[0m: 'CoherenceAwareSentenceEmbedder' object has no attribute 'backbone'"
     ]
    }
   ],
   "source": [
    "from pathlib import Path\n",
    "from modelling import CoherenceAwareSentenceEmbedder\n",
    "from pytorch_lightning.callbacks import(\n",
    "    EarlyStopping,\n",
    "    ModelCheckpoint\n",
    ")\n",
    "\n",
    "SAVE_PATH = \"../models/coherence-aware/all-MiniLM-L6-v2\"\n",
    "CKPT = Path(SAVE_PATH).joinpath(\"masked-epoch=11-val_sem_loss=0.29.ckpt\")\n",
    "\n",
    "\n",
    "surrogate_imp=0.2\n",
    "try:\n",
    "    model = CoherenceAwareSentenceEmbedder.load_from_checkpoint(CKPT, num_classes=len(label2id))\n",
    "    print(\"Loaded checkpoint\")\n",
    "except:\n",
    "    model = CoherenceAwareSentenceEmbedder(MPATH,  num_classes=len(label2id), surrogate_imp=surrogate_imp, triplet_margin=1.0)\n",
    "    print(\"Loaded fresh model\")\n",
    "\n",
    "checkpoint_callback = ModelCheckpoint(\n",
    "    SAVE_PATH,\n",
    "    filename=f'imp={surrogate_imp}-{{epoch}}-{{val_sem_loss:.2f}}',\n",
    "    monitor='val_sem_loss',\n",
    "    # save_weights_only=True,\n",
    ")\n",
    "early_stop_callback = EarlyStopping(\n",
    "    monitor=\"val_sem_loss\",\n",
    "    min_delta=8e-4, patience=3,\n",
    "    verbose=False,\n",
    "    mode=\"min\"\n",
    ")"
   ]
  },
  {
   "cell_type": "markdown",
   "metadata": {},
   "source": [
    "## Train the model"
   ]
  },
  {
   "cell_type": "code",
   "execution_count": null,
   "metadata": {},
   "outputs": [],
   "source": [
    "from pytorch_lightning import Trainer, seed_everything\n",
    "\n",
    "\n",
    "seed_everything(42, workers=True)\n",
    "\n",
    "trainer = Trainer(\n",
    "    max_epochs=-1,\n",
    "    deterministic=True,\n",
    "    accumulate_grad_batches=4,\n",
    "    callbacks=[checkpoint_callback, early_stop_callback],\n",
    "    accelerator='gpu',\n",
    "    log_every_n_steps=16\n",
    ")\n",
    "\n",
    "trainer.fit(model, datamodule)"
   ]
  }
 ],
 "metadata": {
  "kernelspec": {
   "display_name": "Python 3.8.13 ('expt')",
   "language": "python",
   "name": "python3"
  },
  "language_info": {
   "codemirror_mode": {
    "name": "ipython",
    "version": 3
   },
   "file_extension": ".py",
   "mimetype": "text/x-python",
   "name": "python",
   "nbconvert_exporter": "python",
   "pygments_lexer": "ipython3",
   "version": "3.8.13"
  },
  "orig_nbformat": 4,
  "vscode": {
   "interpreter": {
    "hash": "c7d4cfcaae307a7383f424736b9bb7961522145721c6eef7a7425780af807757"
   }
  }
 },
 "nbformat": 4,
 "nbformat_minor": 2
}
