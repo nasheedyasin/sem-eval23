{
 "cells": [
  {
   "cell_type": "markdown",
   "metadata": {},
   "source": [
    "## Preamble"
   ]
  },
  {
   "cell_type": "code",
   "execution_count": null,
   "metadata": {},
   "outputs": [],
   "source": [
    "import sys\n",
    "\n",
    "# Allows imports from the scripts directory.\n",
    "sys.path.append('../scripts')"
   ]
  },
  {
   "cell_type": "markdown",
   "metadata": {},
   "source": [
    "## Prepare the data"
   ]
  },
  {
   "cell_type": "code",
   "execution_count": null,
   "metadata": {},
   "outputs": [],
   "source": [
    "label2id = {\n",
    "    'ISSUE': 0,\n",
    "    'NONE': 1,\n",
    "    'STA': 2,\n",
    "    'ANALYSIS': 3,\n",
    "    'PRE_RELIED': 4,\n",
    "    'RATIO': 5,\n",
    "    'RPC': 6,\n",
    "    'PRE_NOT_RELIED': 7,\n",
    "    'ARG_PETITIONER': 8,\n",
    "    'PREAMBLE': 9,\n",
    "    'RLC': 10,\n",
    "    'ARG_RESPONDENT': 11,\n",
    "    'FAC': 12\n",
    "}\n",
    "\n",
    "id2label = {v: k for k, v in label2id.items()}"
   ]
  },
  {
   "cell_type": "code",
   "execution_count": null,
   "metadata": {},
   "outputs": [],
   "source": [
    "from datautils import RRDataModule, RRBatcher\n",
    "\n",
    "DPATH = \"../data/train.json\"\n",
    "MPATH = \"sentence-transformers/all-MiniLM-L6-v2\"\n",
    "\n",
    "batcher = RRBatcher(MPATH)\n",
    "datamodule = RRDataModule(DPATH, batcher, label2id)\n",
    "datamodule.setup()\n"
   ]
  },
  {
   "cell_type": "markdown",
   "metadata": {},
   "source": [
    "# Prepare the model"
   ]
  },
  {
   "cell_type": "code",
   "execution_count": null,
   "metadata": {},
   "outputs": [],
   "source": [
    "from pathlib import Path\n",
    "from modelling import CoherenceAwareSentenceEmbedder\n",
    "from pytorch_lightning.callbacks import(\n",
    "    EarlyStopping,\n",
    "    ModelCheckpoint\n",
    ")\n",
    "\n",
    "SAVE_PATH = \"../models/coherence-aware/all-MiniLM-L6-v2\"\n",
    "CKPT = Path(SAVE_PATH).joinpath(\"masked-epoch=11-val_sem_loss=0.29.ckpt\")\n",
    "\n",
    "\n",
    "surrogate_imp=0.2\n",
    "try:\n",
    "    model = CoherenceAwareSentenceEmbedder.load_from_checkpoint(CKPT, num_classes=len(label2id))\n",
    "    print(\"Loaded checkpoint\")\n",
    "except:\n",
    "    model = CoherenceAwareSentenceEmbedder(MPATH,  num_classes=len(label2id), surrogate_imp=surrogate_imp, triplet_margin=1.0)\n",
    "    print(\"Loaded fresh model\")\n",
    "\n",
    "checkpoint_callback = ModelCheckpoint(\n",
    "    SAVE_PATH,\n",
    "    filename=f'imp={surrogate_imp}-{{epoch}}-{{val_sem_loss:.2f}}',\n",
    "    monitor='val_sem_loss',\n",
    "    # save_weights_only=True,\n",
    ")\n",
    "early_stop_callback = EarlyStopping(\n",
    "    monitor=\"val_sem_loss\",\n",
    "    min_delta=1e-4, patience=16,\n",
    "    verbose=False,\n",
    "    mode=\"min\"\n",
    ")"
   ]
  },
  {
   "cell_type": "markdown",
   "metadata": {},
   "source": [
    "## Train the model"
   ]
  },
  {
   "cell_type": "code",
   "execution_count": null,
   "metadata": {},
   "outputs": [],
   "source": [
    "from pytorch_lightning import Trainer, seed_everything\n",
    "\n",
    "\n",
    "seed_everything(42, workers=True)\n",
    "\n",
    "trainer = Trainer(\n",
    "    max_epochs=-1,\n",
    "    deterministic=True,\n",
    "    accumulate_grad_batches=4,\n",
    "    callbacks=[checkpoint_callback, early_stop_callback],\n",
    "    accelerator='gpu',\n",
    "    log_every_n_steps=16\n",
    ")\n",
    "\n",
    "trainer.fit(model, datamodule)"
   ]
  }
 ],
 "metadata": {
  "kernelspec": {
   "display_name": "Python 3.8.13 ('expt')",
   "language": "python",
   "name": "python3"
  },
  "language_info": {
   "codemirror_mode": {
    "name": "ipython",
    "version": 3
   },
   "file_extension": ".py",
   "mimetype": "text/x-python",
   "name": "python",
   "nbconvert_exporter": "python",
   "pygments_lexer": "ipython3",
   "version": "3.8.13"
  },
  "orig_nbformat": 4,
  "vscode": {
   "interpreter": {
    "hash": "c7d4cfcaae307a7383f424736b9bb7961522145721c6eef7a7425780af807757"
   }
  }
 },
 "nbformat": 4,
 "nbformat_minor": 2
}
